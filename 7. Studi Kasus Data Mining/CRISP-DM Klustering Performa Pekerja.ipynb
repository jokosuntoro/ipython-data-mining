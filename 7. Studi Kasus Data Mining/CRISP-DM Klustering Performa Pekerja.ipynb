{
 "cells": [
  {
   "cell_type": "markdown",
   "metadata": {},
   "source": [
    "![Pipline ML](../img/pipline-ml-approach-crisp-dm.png)<br>\n",
    "\n",
    "<div class=\"text-center\">Typical Machine Learning Pipeline with CRISP-DM Approach</div>\n",
    "<div class=\"text-center\">(Sarkar, et. al., 2018)</div>"
   ]
  },
  {
   "cell_type": "markdown",
   "metadata": {},
   "source": [
    "# 1. Business Understanding\n",
    "\n",
    "* Divisi Human Capital (HC) PT PTMN akan mengadakan kursus peningkatan kompetensi bagi pekerja\n",
    "* Pekerja akan dikelompokkan berdasarkan nilai realisasi KPI dan lama bekerja\n",
    "* Pekerja PT PTMN dibagi menjadi tiga kelompok, yaitu kelompok performa baik, kelompok performa sedang, dan kelompok performa buruk\n",
    "* Pekerja yang **wajib** mengikuti kursus peningkatan kompetensi adalah pekerja yang masuk dalam **kelompok performa buruk**"
   ]
  },
  {
   "cell_type": "markdown",
   "metadata": {},
   "source": [
    "# 2. Data Understanding\n",
    "Divisi HC PT PTMN mengambil data penilaian KPI perusahaan dan diberi nama penilaian_pekerja.csv, data tersebut berisi atribut sebagai berikut:\n",
    "   * nopek, adalah nomor  pekerja, sebagai identity\n",
    "   * lama_bekerja, adalah lama waktu pekerja bekerja di PT PTMN (dalam satuan tahun)\n",
    "   * realisasi_kpi, adalah nilai realisasi KPI setiap pekerja (dalam satuan persen)"
   ]
  },
  {
   "cell_type": "markdown",
   "metadata": {},
   "source": [
    "# 3. Data Preparation"
   ]
  },
  {
   "cell_type": "code",
   "execution_count": 1,
   "metadata": {},
   "outputs": [],
   "source": [
    "# import library-libary yang digunakan\n",
    "import pandas as pd\n",
    "import numpy as np\n",
    "import matplotlib.pyplot as plt\n",
    "import seaborn as sns\n",
    "from sklearn.cluster import KMeans\n",
    "from sklearn.metrics import silhouette_score\n",
    "import warnings\n",
    "warnings.filterwarnings('ignore')"
   ]
  },
  {
   "cell_type": "code",
   "execution_count": 2,
   "metadata": {},
   "outputs": [],
   "source": [
    "# load dataset penilaian_pekerja.csv\n",
    "nilai = pd.read_csv('../datasets/penilaian_pekerja.csv')"
   ]
  },
  {
   "cell_type": "code",
   "execution_count": 3,
   "metadata": {},
   "outputs": [
    {
     "data": {
      "text/html": [
       "<div>\n",
       "<style scoped>\n",
       "    .dataframe tbody tr th:only-of-type {\n",
       "        vertical-align: middle;\n",
       "    }\n",
       "\n",
       "    .dataframe tbody tr th {\n",
       "        vertical-align: top;\n",
       "    }\n",
       "\n",
       "    .dataframe thead th {\n",
       "        text-align: right;\n",
       "    }\n",
       "</style>\n",
       "<table border=\"1\" class=\"dataframe\">\n",
       "  <thead>\n",
       "    <tr style=\"text-align: right;\">\n",
       "      <th></th>\n",
       "      <th>nopek</th>\n",
       "      <th>lama_bekerja</th>\n",
       "      <th>realisasi_kpi</th>\n",
       "    </tr>\n",
       "  </thead>\n",
       "  <tbody>\n",
       "    <tr>\n",
       "      <th>0</th>\n",
       "      <td>PTMN-101</td>\n",
       "      <td>15</td>\n",
       "      <td>95</td>\n",
       "    </tr>\n",
       "    <tr>\n",
       "      <th>1</th>\n",
       "      <td>PTMN-102</td>\n",
       "      <td>15</td>\n",
       "      <td>100</td>\n",
       "    </tr>\n",
       "    <tr>\n",
       "      <th>2</th>\n",
       "      <td>PTMN-103</td>\n",
       "      <td>14</td>\n",
       "      <td>98</td>\n",
       "    </tr>\n",
       "    <tr>\n",
       "      <th>3</th>\n",
       "      <td>PTMN-104</td>\n",
       "      <td>14</td>\n",
       "      <td>100</td>\n",
       "    </tr>\n",
       "    <tr>\n",
       "      <th>4</th>\n",
       "      <td>PTMN-105</td>\n",
       "      <td>14</td>\n",
       "      <td>92</td>\n",
       "    </tr>\n",
       "  </tbody>\n",
       "</table>\n",
       "</div>"
      ],
      "text/plain": [
       "      nopek  lama_bekerja  realisasi_kpi\n",
       "0  PTMN-101            15             95\n",
       "1  PTMN-102            15            100\n",
       "2  PTMN-103            14             98\n",
       "3  PTMN-104            14            100\n",
       "4  PTMN-105            14             92"
      ]
     },
     "execution_count": 3,
     "metadata": {},
     "output_type": "execute_result"
    }
   ],
   "source": [
    "# menampilkan lima data teratas\n",
    "nilai.head()"
   ]
  },
  {
   "cell_type": "code",
   "execution_count": 4,
   "metadata": {},
   "outputs": [
    {
     "data": {
      "text/plain": [
       "(50, 3)"
      ]
     },
     "execution_count": 4,
     "metadata": {},
     "output_type": "execute_result"
    }
   ],
   "source": [
    "# cek dimensi data\n",
    "nilai.shape"
   ]
  },
  {
   "cell_type": "code",
   "execution_count": 5,
   "metadata": {},
   "outputs": [
    {
     "data": {
      "text/plain": [
       "Index(['nopek', 'lama_bekerja', 'realisasi_kpi'], dtype='object')"
      ]
     },
     "execution_count": 5,
     "metadata": {},
     "output_type": "execute_result"
    }
   ],
   "source": [
    "# menampilkan nama-nama atribut\n",
    "nilai.columns"
   ]
  },
  {
   "cell_type": "code",
   "execution_count": 6,
   "metadata": {},
   "outputs": [
    {
     "name": "stdout",
     "output_type": "stream",
     "text": [
      "<class 'pandas.core.frame.DataFrame'>\n",
      "RangeIndex: 50 entries, 0 to 49\n",
      "Data columns (total 3 columns):\n",
      "nopek            50 non-null object\n",
      "lama_bekerja     50 non-null int64\n",
      "realisasi_kpi    50 non-null int64\n",
      "dtypes: int64(2), object(1)\n",
      "memory usage: 1.2+ KB\n"
     ]
    }
   ],
   "source": [
    "# menampilkan tipe data masing-masing atribut\n",
    "nilai.info()"
   ]
  },
  {
   "cell_type": "markdown",
   "metadata": {},
   "source": [
    "### Cek Missing Value"
   ]
  },
  {
   "cell_type": "code",
   "execution_count": 7,
   "metadata": {},
   "outputs": [
    {
     "data": {
      "text/plain": [
       "nopek            0\n",
       "lama_bekerja     0\n",
       "realisasi_kpi    0\n",
       "dtype: int64"
      ]
     },
     "execution_count": 7,
     "metadata": {},
     "output_type": "execute_result"
    }
   ],
   "source": [
    "# cek apakah terdapat missing value\n",
    "nilai.isnull().sum()"
   ]
  },
  {
   "cell_type": "markdown",
   "metadata": {},
   "source": [
    "Data penilaian_pekerja.csv tidak terdapat missing value"
   ]
  },
  {
   "cell_type": "markdown",
   "metadata": {},
   "source": [
    "### Atribute/Feature Selection\n",
    "\n",
    "Pada bagian data understanding, telah dijelaskan bahwa nopek sebagai identity, sehingga tidak digunakan dalam pemodelan."
   ]
  },
  {
   "cell_type": "code",
   "execution_count": 8,
   "metadata": {},
   "outputs": [],
   "source": [
    "#filter hanya atribut lama_bekerja dan realisasi_kpi yang digunakan dalam pemodelan\n",
    "nilai_fs = nilai[['lama_bekerja', 'realisasi_kpi']]"
   ]
  },
  {
   "cell_type": "code",
   "execution_count": 9,
   "metadata": {},
   "outputs": [
    {
     "data": {
      "text/html": [
       "<div>\n",
       "<style scoped>\n",
       "    .dataframe tbody tr th:only-of-type {\n",
       "        vertical-align: middle;\n",
       "    }\n",
       "\n",
       "    .dataframe tbody tr th {\n",
       "        vertical-align: top;\n",
       "    }\n",
       "\n",
       "    .dataframe thead th {\n",
       "        text-align: right;\n",
       "    }\n",
       "</style>\n",
       "<table border=\"1\" class=\"dataframe\">\n",
       "  <thead>\n",
       "    <tr style=\"text-align: right;\">\n",
       "      <th></th>\n",
       "      <th>lama_bekerja</th>\n",
       "      <th>realisasi_kpi</th>\n",
       "    </tr>\n",
       "  </thead>\n",
       "  <tbody>\n",
       "    <tr>\n",
       "      <th>0</th>\n",
       "      <td>15</td>\n",
       "      <td>95</td>\n",
       "    </tr>\n",
       "    <tr>\n",
       "      <th>1</th>\n",
       "      <td>15</td>\n",
       "      <td>100</td>\n",
       "    </tr>\n",
       "    <tr>\n",
       "      <th>2</th>\n",
       "      <td>14</td>\n",
       "      <td>98</td>\n",
       "    </tr>\n",
       "    <tr>\n",
       "      <th>3</th>\n",
       "      <td>14</td>\n",
       "      <td>100</td>\n",
       "    </tr>\n",
       "    <tr>\n",
       "      <th>4</th>\n",
       "      <td>14</td>\n",
       "      <td>92</td>\n",
       "    </tr>\n",
       "  </tbody>\n",
       "</table>\n",
       "</div>"
      ],
      "text/plain": [
       "   lama_bekerja  realisasi_kpi\n",
       "0            15             95\n",
       "1            15            100\n",
       "2            14             98\n",
       "3            14            100\n",
       "4            14             92"
      ]
     },
     "execution_count": 9,
     "metadata": {},
     "output_type": "execute_result"
    }
   ],
   "source": [
    "# cek lima data teratas setelah dilakukan feature selection\n",
    "nilai_fs.head()"
   ]
  },
  {
   "cell_type": "code",
   "execution_count": 10,
   "metadata": {},
   "outputs": [
    {
     "data": {
      "text/plain": [
       "(50, 2)"
      ]
     },
     "execution_count": 10,
     "metadata": {},
     "output_type": "execute_result"
    }
   ],
   "source": [
    "# cek dimensi data setelah dilakukan feature selection\n",
    "nilai_fs.shape"
   ]
  },
  {
   "cell_type": "code",
   "execution_count": 11,
   "metadata": {},
   "outputs": [
    {
     "data": {
      "text/plain": [
       "Index(['lama_bekerja', 'realisasi_kpi'], dtype='object')"
      ]
     },
     "execution_count": 11,
     "metadata": {},
     "output_type": "execute_result"
    }
   ],
   "source": [
    "# menampilkan kolom yang digunakan setelah feature selection\n",
    "nilai_fs.columns"
   ]
  },
  {
   "cell_type": "markdown",
   "metadata": {},
   "source": [
    "### Exploratory Data Analysis"
   ]
  },
  {
   "cell_type": "code",
   "execution_count": 12,
   "metadata": {},
   "outputs": [
    {
     "data": {
      "text/html": [
       "<div>\n",
       "<style scoped>\n",
       "    .dataframe tbody tr th:only-of-type {\n",
       "        vertical-align: middle;\n",
       "    }\n",
       "\n",
       "    .dataframe tbody tr th {\n",
       "        vertical-align: top;\n",
       "    }\n",
       "\n",
       "    .dataframe thead th {\n",
       "        text-align: right;\n",
       "    }\n",
       "</style>\n",
       "<table border=\"1\" class=\"dataframe\">\n",
       "  <thead>\n",
       "    <tr style=\"text-align: right;\">\n",
       "      <th></th>\n",
       "      <th>lama_bekerja</th>\n",
       "      <th>realisasi_kpi</th>\n",
       "    </tr>\n",
       "  </thead>\n",
       "  <tbody>\n",
       "    <tr>\n",
       "      <th>count</th>\n",
       "      <td>50.000000</td>\n",
       "      <td>50.000000</td>\n",
       "    </tr>\n",
       "    <tr>\n",
       "      <th>mean</th>\n",
       "      <td>7.580000</td>\n",
       "      <td>67.760000</td>\n",
       "    </tr>\n",
       "    <tr>\n",
       "      <th>std</th>\n",
       "      <td>4.243074</td>\n",
       "      <td>26.418577</td>\n",
       "    </tr>\n",
       "    <tr>\n",
       "      <th>min</th>\n",
       "      <td>1.000000</td>\n",
       "      <td>10.000000</td>\n",
       "    </tr>\n",
       "    <tr>\n",
       "      <th>25%</th>\n",
       "      <td>4.000000</td>\n",
       "      <td>50.000000</td>\n",
       "    </tr>\n",
       "    <tr>\n",
       "      <th>50%</th>\n",
       "      <td>7.500000</td>\n",
       "      <td>71.000000</td>\n",
       "    </tr>\n",
       "    <tr>\n",
       "      <th>75%</th>\n",
       "      <td>11.000000</td>\n",
       "      <td>90.000000</td>\n",
       "    </tr>\n",
       "    <tr>\n",
       "      <th>max</th>\n",
       "      <td>15.000000</td>\n",
       "      <td>100.000000</td>\n",
       "    </tr>\n",
       "  </tbody>\n",
       "</table>\n",
       "</div>"
      ],
      "text/plain": [
       "       lama_bekerja  realisasi_kpi\n",
       "count     50.000000      50.000000\n",
       "mean       7.580000      67.760000\n",
       "std        4.243074      26.418577\n",
       "min        1.000000      10.000000\n",
       "25%        4.000000      50.000000\n",
       "50%        7.500000      71.000000\n",
       "75%       11.000000      90.000000\n",
       "max       15.000000     100.000000"
      ]
     },
     "execution_count": 12,
     "metadata": {},
     "output_type": "execute_result"
    }
   ],
   "source": [
    "# statistic descriptive\n",
    "nilai_fs.describe()"
   ]
  },
  {
   "cell_type": "code",
   "execution_count": 13,
   "metadata": {},
   "outputs": [
    {
     "data": {
      "image/png": "[encoded data removed]",
      "text/plain": [
       "<Figure size 720x360 with 2 Axes>"
      ]
     },
     "metadata": {
      "needs_background": "light"
     },
     "output_type": "display_data"
    }
   ],
   "source": [
    "# menampilkan distribusi kedua atribut\n",
    "fig = plt.figure(figsize=(10,5))\n",
    "\n",
    "fig.add_subplot(2,1,1)\n",
    "sns.distplot(nilai['lama_bekerja'])\n",
    "\n",
    "fig.add_subplot(2,1,2)\n",
    "sns.distplot(nilai['realisasi_kpi'])\n",
    "\n",
    "fig.tight_layout()"
   ]
  },
  {
   "cell_type": "code",
   "execution_count": 14,
   "metadata": {},
   "outputs": [
    {
     "data": {
      "image/png": "[encoded data removed]",
      "text/plain": [
       "<Figure size 720x360 with 2 Axes>"
      ]
     },
     "metadata": {
      "needs_background": "light"
     },
     "output_type": "display_data"
    }
   ],
   "source": [
    "# melihat distribusi kedua atribut dalam bentuk box plot\n",
    "fig = plt.figure(figsize=(10,5))\n",
    "\n",
    "fig.add_subplot(1,2,1)\n",
    "plt.boxplot(nilai['lama_bekerja'])\n",
    "\n",
    "fig.add_subplot(1,2,2)\n",
    "plt.boxplot(nilai['realisasi_kpi'])\n",
    "\n",
    "plt.show()"
   ]
  },
  {
   "cell_type": "code",
   "execution_count": 15,
   "metadata": {},
   "outputs": [
    {
     "data": {
      "text/html": [
       "<div>\n",
       "<style scoped>\n",
       "    .dataframe tbody tr th:only-of-type {\n",
       "        vertical-align: middle;\n",
       "    }\n",
       "\n",
       "    .dataframe tbody tr th {\n",
       "        vertical-align: top;\n",
       "    }\n",
       "\n",
       "    .dataframe thead th {\n",
       "        text-align: right;\n",
       "    }\n",
       "</style>\n",
       "<table border=\"1\" class=\"dataframe\">\n",
       "  <thead>\n",
       "    <tr style=\"text-align: right;\">\n",
       "      <th></th>\n",
       "      <th>lama_bekerja</th>\n",
       "      <th>realisasi_kpi</th>\n",
       "    </tr>\n",
       "  </thead>\n",
       "  <tbody>\n",
       "    <tr>\n",
       "      <th>lama_bekerja</th>\n",
       "      <td>1.000000</td>\n",
       "      <td>0.894816</td>\n",
       "    </tr>\n",
       "    <tr>\n",
       "      <th>realisasi_kpi</th>\n",
       "      <td>0.894816</td>\n",
       "      <td>1.000000</td>\n",
       "    </tr>\n",
       "  </tbody>\n",
       "</table>\n",
       "</div>"
      ],
      "text/plain": [
       "               lama_bekerja  realisasi_kpi\n",
       "lama_bekerja       1.000000       0.894816\n",
       "realisasi_kpi      0.894816       1.000000"
      ]
     },
     "execution_count": 15,
     "metadata": {},
     "output_type": "execute_result"
    }
   ],
   "source": [
    "# hubungan korelasi antara lama_bekerja dan realisasi_kpi\n",
    "nilai_fs.corr()"
   ]
  },
  {
   "cell_type": "code",
   "execution_count": 16,
   "metadata": {},
   "outputs": [
    {
     "data": {
      "image/png": "[encoded data removed]",
      "text/plain": [
       "<Figure size 432x288 with 1 Axes>"
      ]
     },
     "metadata": {
      "needs_background": "light"
     },
     "output_type": "display_data"
    }
   ],
   "source": [
    "# Bivariate analysis antara atribut lama_bekerja dan realisasi_kpi dengan scatter plot\n",
    "plt.scatter(nilai_fs['lama_bekerja'], nilai_fs['realisasi_kpi'])\n",
    "plt.xlabel('Lama Bekerja')\n",
    "plt.ylabel('Realisasi KPI')\n",
    "plt.title('Scatter Plot Lama Bekerja Vs. Realisasi KPI')\n",
    "plt.show()"
   ]
  },
  {
   "cell_type": "markdown",
   "metadata": {},
   "source": [
    "* Scatter plot menunjukkan korelasi positif\n",
    "* Semakin lama bekerja, nilai realisasi KPI semakin tinggi"
   ]
  },
  {
   "cell_type": "markdown",
   "metadata": {},
   "source": [
    "# 4. Modeling\n",
    "\n",
    "   * Dalam tahapan modeling, algoritme machine learning yang digunakan adalah **algoritme K-Means**\n",
    "   * Nilai K yang digunakan adalah tiga, karena performa pekerja akan dibagi menjadi tiga kelompok"
   ]
  },
  {
   "cell_type": "code",
   "execution_count": 17,
   "metadata": {},
   "outputs": [
    {
     "data": {
      "text/plain": [
       "array([[11.26086957, 91.        ],\n",
       "       [ 2.36363636, 27.09090909],\n",
       "       [ 5.875     , 62.3125    ]])"
      ]
     },
     "execution_count": 17,
     "metadata": {},
     "output_type": "execute_result"
    }
   ],
   "source": [
    "kmeans = KMeans(n_clusters=3)\n",
    "kmeans = kmeans.fit(nilai_fs)\n",
    "kmeans.cluster_centers_"
   ]
  },
  {
   "cell_type": "markdown",
   "metadata": {},
   "source": [
    "# 5. Evaluation"
   ]
  },
  {
   "cell_type": "code",
   "execution_count": 18,
   "metadata": {},
   "outputs": [
    {
     "data": {
      "image/png": "[encoded data removed]",
      "text/plain": [
       "<Figure size 432x288 with 1 Axes>"
      ]
     },
     "metadata": {
      "needs_background": "light"
     },
     "output_type": "display_data"
    }
   ],
   "source": [
    "x = nilai['lama_bekerja']\n",
    "y = nilai['realisasi_kpi']\n",
    "\n",
    "group = kmeans.labels_\n",
    "\n",
    "colors = ['red', 'green', 'yellow']\n",
    "fig, ax = plt.subplots()\n",
    "\n",
    "for g in set(kmeans.labels_):\n",
    "    xi = [x[j] for j in range(len(x)) if group[j]==g]\n",
    "    yi = [y[j] for j in range(len(y)) if group[j]==g]\n",
    "    ax.scatter(xi, yi, c=colors[g], label=g)\n",
    "    ax.scatter(2.36363636,  27.09090909, c='blue')\n",
    "    ax.scatter(5.875,  62.3125, c='purple')\n",
    "    ax.scatter(11.26086957,  91.000, c='pink')\n",
    "    plt.xlabel('Lama Bekerja')\n",
    "    plt.ylabel('Realisasi KPI')\n",
    "    plt.title('Lama Bekerja Vs. Realisasi KPI')\n",
    "\n",
    "ax.legend()\n",
    "plt.show()"
   ]
  },
  {
   "cell_type": "markdown",
   "metadata": {},
   "source": [
    "* Pekerja dengan kelompok performa buruk masuk ke dalam Cluster 0 (warna merah)\n",
    "* Pekerja dengan kelompok performa sedang masuk ke dalam Cluster 2 (warna kuning)\n",
    "* Pekerja dengan kelompok performa baik masuk ke dalam Cluster 1 (warna hijau)"
   ]
  },
  {
   "cell_type": "markdown",
   "metadata": {},
   "source": [
    "##### Dalam tahapan evaluasi, akan dihitung berapa jumlah kelompok (nilai K) optimal dari algoritme K-Means saat diterapkan pada dataset penilaian_pekerja.csv"
   ]
  },
  {
   "cell_type": "code",
   "execution_count": 19,
   "metadata": {},
   "outputs": [],
   "source": [
    "# manceri nilai K optimal\n",
    "inertia = []\n",
    "silhouette = []\n",
    "\n",
    "K = range(3,10)\n",
    "for k in K:\n",
    "    kmeans = KMeans(n_clusters = k)\n",
    "    kmeans = kmeans.fit(nilai_fs)\n",
    "    kmeans.labels_\n",
    "    \n",
    "    inertia.append(kmeans.inertia_)\n",
    "    silhouette.append(silhouette_score(nilai_fs, kmeans.labels_))"
   ]
  },
  {
   "cell_type": "code",
   "execution_count": 20,
   "metadata": {},
   "outputs": [
    {
     "data": {
      "text/plain": [
       "Text(0, 0.5, 'Nilai Silhoutte')"
      ]
     },
     "execution_count": 20,
     "metadata": {},
     "output_type": "execute_result"
    },
    {
     "data": {
      "image/png": "[encoded data removed]",
      "text/plain": [
       "<Figure size 720x288 with 2 Axes>"
      ]
     },
     "metadata": {
      "needs_background": "light"
     },
     "output_type": "display_data"
    }
   ],
   "source": [
    "# visualisasi plotting nilai K\n",
    "fig = plt.figure(figsize=(10,4))\n",
    "\n",
    "fig.add_subplot(1,2,1)\n",
    "plt.plot(K, inertia, marker='x')\n",
    "plt.xlabel('k')\n",
    "plt.ylabel('Nilai Inertia')\n",
    "\n",
    "fig.add_subplot(1,2,2)           \n",
    "plt.plot(K, silhouette, marker='o')\n",
    "plt.xlabel('k')\n",
    "plt.ylabel('Nilai Silhoutte')"
   ]
  },
  {
   "cell_type": "markdown",
   "metadata": {},
   "source": [
    "Dari grafik di atas terlihat bahwa nilai K optimal adalah tiga, sehingga divisi HC PT PTMN sudah tepat membagi kelompok menjadi tiga kelompok"
   ]
  },
  {
   "cell_type": "markdown",
   "metadata": {},
   "source": [
    "# 6. Deployment"
   ]
  },
  {
   "cell_type": "markdown",
   "metadata": {},
   "source": [
    "#### Menampilkan data semua pekerja dengan menambahkan atribut nopek dan Cluster"
   ]
  },
  {
   "cell_type": "code",
   "execution_count": 21,
   "metadata": {},
   "outputs": [
    {
     "data": {
      "text/html": [
       "<div>\n",
       "<style scoped>\n",
       "    .dataframe tbody tr th:only-of-type {\n",
       "        vertical-align: middle;\n",
       "    }\n",
       "\n",
       "    .dataframe tbody tr th {\n",
       "        vertical-align: top;\n",
       "    }\n",
       "\n",
       "    .dataframe thead th {\n",
       "        text-align: right;\n",
       "    }\n",
       "</style>\n",
       "<table border=\"1\" class=\"dataframe\">\n",
       "  <thead>\n",
       "    <tr style=\"text-align: right;\">\n",
       "      <th></th>\n",
       "      <th>lama_bekerja</th>\n",
       "      <th>realisasi_kpi</th>\n",
       "      <th>nopek</th>\n",
       "      <th>Cluster</th>\n",
       "    </tr>\n",
       "  </thead>\n",
       "  <tbody>\n",
       "    <tr>\n",
       "      <th>0</th>\n",
       "      <td>15</td>\n",
       "      <td>95</td>\n",
       "      <td>PTMN-101</td>\n",
       "      <td>8</td>\n",
       "    </tr>\n",
       "    <tr>\n",
       "      <th>1</th>\n",
       "      <td>15</td>\n",
       "      <td>100</td>\n",
       "      <td>PTMN-102</td>\n",
       "      <td>0</td>\n",
       "    </tr>\n",
       "    <tr>\n",
       "      <th>2</th>\n",
       "      <td>14</td>\n",
       "      <td>98</td>\n",
       "      <td>PTMN-103</td>\n",
       "      <td>0</td>\n",
       "    </tr>\n",
       "    <tr>\n",
       "      <th>3</th>\n",
       "      <td>14</td>\n",
       "      <td>100</td>\n",
       "      <td>PTMN-104</td>\n",
       "      <td>0</td>\n",
       "    </tr>\n",
       "    <tr>\n",
       "      <th>4</th>\n",
       "      <td>14</td>\n",
       "      <td>92</td>\n",
       "      <td>PTMN-105</td>\n",
       "      <td>8</td>\n",
       "    </tr>\n",
       "    <tr>\n",
       "      <th>5</th>\n",
       "      <td>13</td>\n",
       "      <td>100</td>\n",
       "      <td>PTMN-106</td>\n",
       "      <td>0</td>\n",
       "    </tr>\n",
       "    <tr>\n",
       "      <th>6</th>\n",
       "      <td>13</td>\n",
       "      <td>85</td>\n",
       "      <td>PTMN-107</td>\n",
       "      <td>4</td>\n",
       "    </tr>\n",
       "    <tr>\n",
       "      <th>7</th>\n",
       "      <td>13</td>\n",
       "      <td>90</td>\n",
       "      <td>PTMN-108</td>\n",
       "      <td>8</td>\n",
       "    </tr>\n",
       "    <tr>\n",
       "      <th>8</th>\n",
       "      <td>12</td>\n",
       "      <td>80</td>\n",
       "      <td>PTMN-109</td>\n",
       "      <td>4</td>\n",
       "    </tr>\n",
       "    <tr>\n",
       "      <th>9</th>\n",
       "      <td>12</td>\n",
       "      <td>100</td>\n",
       "      <td>PTMN-110</td>\n",
       "      <td>0</td>\n",
       "    </tr>\n",
       "    <tr>\n",
       "      <th>10</th>\n",
       "      <td>12</td>\n",
       "      <td>93</td>\n",
       "      <td>PTMN-111</td>\n",
       "      <td>8</td>\n",
       "    </tr>\n",
       "    <tr>\n",
       "      <th>11</th>\n",
       "      <td>11</td>\n",
       "      <td>90</td>\n",
       "      <td>PTMN-112</td>\n",
       "      <td>8</td>\n",
       "    </tr>\n",
       "    <tr>\n",
       "      <th>12</th>\n",
       "      <td>11</td>\n",
       "      <td>95</td>\n",
       "      <td>PTMN-113</td>\n",
       "      <td>8</td>\n",
       "    </tr>\n",
       "    <tr>\n",
       "      <th>13</th>\n",
       "      <td>11</td>\n",
       "      <td>99</td>\n",
       "      <td>PTMN-114</td>\n",
       "      <td>0</td>\n",
       "    </tr>\n",
       "    <tr>\n",
       "      <th>14</th>\n",
       "      <td>10</td>\n",
       "      <td>90</td>\n",
       "      <td>PTMN-115</td>\n",
       "      <td>8</td>\n",
       "    </tr>\n",
       "    <tr>\n",
       "      <th>15</th>\n",
       "      <td>10</td>\n",
       "      <td>100</td>\n",
       "      <td>PTMN-116</td>\n",
       "      <td>0</td>\n",
       "    </tr>\n",
       "    <tr>\n",
       "      <th>16</th>\n",
       "      <td>10</td>\n",
       "      <td>84</td>\n",
       "      <td>PTMN-117</td>\n",
       "      <td>4</td>\n",
       "    </tr>\n",
       "    <tr>\n",
       "      <th>17</th>\n",
       "      <td>10</td>\n",
       "      <td>80</td>\n",
       "      <td>PTMN-118</td>\n",
       "      <td>4</td>\n",
       "    </tr>\n",
       "    <tr>\n",
       "      <th>18</th>\n",
       "      <td>9</td>\n",
       "      <td>65</td>\n",
       "      <td>PTMN-119</td>\n",
       "      <td>5</td>\n",
       "    </tr>\n",
       "    <tr>\n",
       "      <th>19</th>\n",
       "      <td>9</td>\n",
       "      <td>78</td>\n",
       "      <td>PTMN-120</td>\n",
       "      <td>4</td>\n",
       "    </tr>\n",
       "    <tr>\n",
       "      <th>20</th>\n",
       "      <td>9</td>\n",
       "      <td>94</td>\n",
       "      <td>PTMN-121</td>\n",
       "      <td>8</td>\n",
       "    </tr>\n",
       "    <tr>\n",
       "      <th>21</th>\n",
       "      <td>9</td>\n",
       "      <td>85</td>\n",
       "      <td>PTMN-122</td>\n",
       "      <td>4</td>\n",
       "    </tr>\n",
       "    <tr>\n",
       "      <th>22</th>\n",
       "      <td>8</td>\n",
       "      <td>65</td>\n",
       "      <td>PTMN-123</td>\n",
       "      <td>5</td>\n",
       "    </tr>\n",
       "    <tr>\n",
       "      <th>23</th>\n",
       "      <td>8</td>\n",
       "      <td>85</td>\n",
       "      <td>PTMN-124</td>\n",
       "      <td>4</td>\n",
       "    </tr>\n",
       "    <tr>\n",
       "      <th>24</th>\n",
       "      <td>8</td>\n",
       "      <td>72</td>\n",
       "      <td>PTMN-125</td>\n",
       "      <td>3</td>\n",
       "    </tr>\n",
       "    <tr>\n",
       "      <th>25</th>\n",
       "      <td>7</td>\n",
       "      <td>70</td>\n",
       "      <td>PTMN-126</td>\n",
       "      <td>3</td>\n",
       "    </tr>\n",
       "    <tr>\n",
       "      <th>26</th>\n",
       "      <td>7</td>\n",
       "      <td>75</td>\n",
       "      <td>PTMN-127</td>\n",
       "      <td>3</td>\n",
       "    </tr>\n",
       "    <tr>\n",
       "      <th>27</th>\n",
       "      <td>7</td>\n",
       "      <td>68</td>\n",
       "      <td>PTMN-128</td>\n",
       "      <td>3</td>\n",
       "    </tr>\n",
       "    <tr>\n",
       "      <th>28</th>\n",
       "      <td>7</td>\n",
       "      <td>60</td>\n",
       "      <td>PTMN-129</td>\n",
       "      <td>5</td>\n",
       "    </tr>\n",
       "    <tr>\n",
       "      <th>29</th>\n",
       "      <td>6</td>\n",
       "      <td>55</td>\n",
       "      <td>PTMN-130</td>\n",
       "      <td>1</td>\n",
       "    </tr>\n",
       "    <tr>\n",
       "      <th>30</th>\n",
       "      <td>6</td>\n",
       "      <td>70</td>\n",
       "      <td>PTMN-131</td>\n",
       "      <td>3</td>\n",
       "    </tr>\n",
       "    <tr>\n",
       "      <th>31</th>\n",
       "      <td>6</td>\n",
       "      <td>65</td>\n",
       "      <td>PTMN-132</td>\n",
       "      <td>5</td>\n",
       "    </tr>\n",
       "    <tr>\n",
       "      <th>32</th>\n",
       "      <td>5</td>\n",
       "      <td>60</td>\n",
       "      <td>PTMN-133</td>\n",
       "      <td>5</td>\n",
       "    </tr>\n",
       "    <tr>\n",
       "      <th>33</th>\n",
       "      <td>5</td>\n",
       "      <td>65</td>\n",
       "      <td>PTMN-134</td>\n",
       "      <td>5</td>\n",
       "    </tr>\n",
       "    <tr>\n",
       "      <th>34</th>\n",
       "      <td>5</td>\n",
       "      <td>28</td>\n",
       "      <td>PTMN-135</td>\n",
       "      <td>2</td>\n",
       "    </tr>\n",
       "    <tr>\n",
       "      <th>35</th>\n",
       "      <td>5</td>\n",
       "      <td>50</td>\n",
       "      <td>PTMN-136</td>\n",
       "      <td>1</td>\n",
       "    </tr>\n",
       "    <tr>\n",
       "      <th>36</th>\n",
       "      <td>4</td>\n",
       "      <td>80</td>\n",
       "      <td>PTMN-137</td>\n",
       "      <td>4</td>\n",
       "    </tr>\n",
       "    <tr>\n",
       "      <th>37</th>\n",
       "      <td>4</td>\n",
       "      <td>60</td>\n",
       "      <td>PTMN-138</td>\n",
       "      <td>5</td>\n",
       "    </tr>\n",
       "    <tr>\n",
       "      <th>38</th>\n",
       "      <td>4</td>\n",
       "      <td>40</td>\n",
       "      <td>PTMN-139</td>\n",
       "      <td>7</td>\n",
       "    </tr>\n",
       "    <tr>\n",
       "      <th>39</th>\n",
       "      <td>3</td>\n",
       "      <td>25</td>\n",
       "      <td>PTMN-140</td>\n",
       "      <td>2</td>\n",
       "    </tr>\n",
       "    <tr>\n",
       "      <th>40</th>\n",
       "      <td>3</td>\n",
       "      <td>30</td>\n",
       "      <td>PTMN-141</td>\n",
       "      <td>2</td>\n",
       "    </tr>\n",
       "    <tr>\n",
       "      <th>41</th>\n",
       "      <td>3</td>\n",
       "      <td>47</td>\n",
       "      <td>PTMN-142</td>\n",
       "      <td>1</td>\n",
       "    </tr>\n",
       "    <tr>\n",
       "      <th>42</th>\n",
       "      <td>2</td>\n",
       "      <td>40</td>\n",
       "      <td>PTMN-143</td>\n",
       "      <td>7</td>\n",
       "    </tr>\n",
       "    <tr>\n",
       "      <th>43</th>\n",
       "      <td>2</td>\n",
       "      <td>30</td>\n",
       "      <td>PTMN-144</td>\n",
       "      <td>2</td>\n",
       "    </tr>\n",
       "    <tr>\n",
       "      <th>44</th>\n",
       "      <td>2</td>\n",
       "      <td>10</td>\n",
       "      <td>PTMN-145</td>\n",
       "      <td>6</td>\n",
       "    </tr>\n",
       "    <tr>\n",
       "      <th>45</th>\n",
       "      <td>2</td>\n",
       "      <td>25</td>\n",
       "      <td>PTMN-146</td>\n",
       "      <td>2</td>\n",
       "    </tr>\n",
       "    <tr>\n",
       "      <th>46</th>\n",
       "      <td>1</td>\n",
       "      <td>30</td>\n",
       "      <td>PTMN-147</td>\n",
       "      <td>2</td>\n",
       "    </tr>\n",
       "    <tr>\n",
       "      <th>47</th>\n",
       "      <td>1</td>\n",
       "      <td>50</td>\n",
       "      <td>PTMN-148</td>\n",
       "      <td>1</td>\n",
       "    </tr>\n",
       "    <tr>\n",
       "      <th>48</th>\n",
       "      <td>1</td>\n",
       "      <td>25</td>\n",
       "      <td>PTMN-149</td>\n",
       "      <td>2</td>\n",
       "    </tr>\n",
       "    <tr>\n",
       "      <th>49</th>\n",
       "      <td>1</td>\n",
       "      <td>15</td>\n",
       "      <td>PTMN-150</td>\n",
       "      <td>6</td>\n",
       "    </tr>\n",
       "  </tbody>\n",
       "</table>\n",
       "</div>"
      ],
      "text/plain": [
       "    lama_bekerja  realisasi_kpi     nopek  Cluster\n",
       "0             15             95  PTMN-101        8\n",
       "1             15            100  PTMN-102        0\n",
       "2             14             98  PTMN-103        0\n",
       "3             14            100  PTMN-104        0\n",
       "4             14             92  PTMN-105        8\n",
       "5             13            100  PTMN-106        0\n",
       "6             13             85  PTMN-107        4\n",
       "7             13             90  PTMN-108        8\n",
       "8             12             80  PTMN-109        4\n",
       "9             12            100  PTMN-110        0\n",
       "10            12             93  PTMN-111        8\n",
       "11            11             90  PTMN-112        8\n",
       "12            11             95  PTMN-113        8\n",
       "13            11             99  PTMN-114        0\n",
       "14            10             90  PTMN-115        8\n",
       "15            10            100  PTMN-116        0\n",
       "16            10             84  PTMN-117        4\n",
       "17            10             80  PTMN-118        4\n",
       "18             9             65  PTMN-119        5\n",
       "19             9             78  PTMN-120        4\n",
       "20             9             94  PTMN-121        8\n",
       "21             9             85  PTMN-122        4\n",
       "22             8             65  PTMN-123        5\n",
       "23             8             85  PTMN-124        4\n",
       "24             8             72  PTMN-125        3\n",
       "25             7             70  PTMN-126        3\n",
       "26             7             75  PTMN-127        3\n",
       "27             7             68  PTMN-128        3\n",
       "28             7             60  PTMN-129        5\n",
       "29             6             55  PTMN-130        1\n",
       "30             6             70  PTMN-131        3\n",
       "31             6             65  PTMN-132        5\n",
       "32             5             60  PTMN-133        5\n",
       "33             5             65  PTMN-134        5\n",
       "34             5             28  PTMN-135        2\n",
       "35             5             50  PTMN-136        1\n",
       "36             4             80  PTMN-137        4\n",
       "37             4             60  PTMN-138        5\n",
       "38             4             40  PTMN-139        7\n",
       "39             3             25  PTMN-140        2\n",
       "40             3             30  PTMN-141        2\n",
       "41             3             47  PTMN-142        1\n",
       "42             2             40  PTMN-143        7\n",
       "43             2             30  PTMN-144        2\n",
       "44             2             10  PTMN-145        6\n",
       "45             2             25  PTMN-146        2\n",
       "46             1             30  PTMN-147        2\n",
       "47             1             50  PTMN-148        1\n",
       "48             1             25  PTMN-149        2\n",
       "49             1             15  PTMN-150        6"
      ]
     },
     "execution_count": 21,
     "metadata": {},
     "output_type": "execute_result"
    }
   ],
   "source": [
    "nilai_fs['nopek'] = nilai['nopek']\n",
    "nilai_fs['lama_bekerja'] = nilai_fs['lama_bekerja']\n",
    "nilai_fs['realisasi_kpi'] = nilai_fs['realisasi_kpi']\n",
    "nilai_fs['Cluster']=kmeans.labels_\n",
    "nilai_fs"
   ]
  },
  {
   "cell_type": "markdown",
   "metadata": {},
   "source": [
    "#### Menampilkan pekerja yang mengikuti kursus peningkatan kompetensi (berada di Cluster 0)"
   ]
  },
  {
   "cell_type": "code",
   "execution_count": 22,
   "metadata": {},
   "outputs": [
    {
     "data": {
      "text/html": [
       "<div>\n",
       "<style scoped>\n",
       "    .dataframe tbody tr th:only-of-type {\n",
       "        vertical-align: middle;\n",
       "    }\n",
       "\n",
       "    .dataframe tbody tr th {\n",
       "        vertical-align: top;\n",
       "    }\n",
       "\n",
       "    .dataframe thead th {\n",
       "        text-align: right;\n",
       "    }\n",
       "</style>\n",
       "<table border=\"1\" class=\"dataframe\">\n",
       "  <thead>\n",
       "    <tr style=\"text-align: right;\">\n",
       "      <th></th>\n",
       "      <th>lama_bekerja</th>\n",
       "      <th>realisasi_kpi</th>\n",
       "      <th>nopek</th>\n",
       "      <th>Cluster</th>\n",
       "    </tr>\n",
       "  </thead>\n",
       "  <tbody>\n",
       "    <tr>\n",
       "      <th>1</th>\n",
       "      <td>15</td>\n",
       "      <td>100</td>\n",
       "      <td>PTMN-102</td>\n",
       "      <td>0</td>\n",
       "    </tr>\n",
       "    <tr>\n",
       "      <th>2</th>\n",
       "      <td>14</td>\n",
       "      <td>98</td>\n",
       "      <td>PTMN-103</td>\n",
       "      <td>0</td>\n",
       "    </tr>\n",
       "    <tr>\n",
       "      <th>3</th>\n",
       "      <td>14</td>\n",
       "      <td>100</td>\n",
       "      <td>PTMN-104</td>\n",
       "      <td>0</td>\n",
       "    </tr>\n",
       "    <tr>\n",
       "      <th>5</th>\n",
       "      <td>13</td>\n",
       "      <td>100</td>\n",
       "      <td>PTMN-106</td>\n",
       "      <td>0</td>\n",
       "    </tr>\n",
       "    <tr>\n",
       "      <th>9</th>\n",
       "      <td>12</td>\n",
       "      <td>100</td>\n",
       "      <td>PTMN-110</td>\n",
       "      <td>0</td>\n",
       "    </tr>\n",
       "    <tr>\n",
       "      <th>13</th>\n",
       "      <td>11</td>\n",
       "      <td>99</td>\n",
       "      <td>PTMN-114</td>\n",
       "      <td>0</td>\n",
       "    </tr>\n",
       "    <tr>\n",
       "      <th>15</th>\n",
       "      <td>10</td>\n",
       "      <td>100</td>\n",
       "      <td>PTMN-116</td>\n",
       "      <td>0</td>\n",
       "    </tr>\n",
       "  </tbody>\n",
       "</table>\n",
       "</div>"
      ],
      "text/plain": [
       "    lama_bekerja  realisasi_kpi     nopek  Cluster\n",
       "1             15            100  PTMN-102        0\n",
       "2             14             98  PTMN-103        0\n",
       "3             14            100  PTMN-104        0\n",
       "5             13            100  PTMN-106        0\n",
       "9             12            100  PTMN-110        0\n",
       "13            11             99  PTMN-114        0\n",
       "15            10            100  PTMN-116        0"
      ]
     },
     "execution_count": 22,
     "metadata": {},
     "output_type": "execute_result"
    }
   ],
   "source": [
    "pekerja_performa_buruk = nilai_fs[nilai_fs.Cluster==0]\n",
    "pekerja_performa_buruk"
   ]
  },
  {
   "cell_type": "code",
   "execution_count": 23,
   "metadata": {},
   "outputs": [
    {
     "data": {
      "text/plain": [
       "7"
      ]
     },
     "execution_count": 23,
     "metadata": {},
     "output_type": "execute_result"
    }
   ],
   "source": [
    "# jumlah data pekerja dengan performa buruk dihitunng berdasarkan count nopek\n",
    "pekerja_performa_buruk['nopek'].count()"
   ]
  }
 ],
 "metadata": {
  "kernelspec": {
   "display_name": "Python 3",
   "language": "python",
   "name": "python3"
  },
  "language_info": {
   "codemirror_mode": {
    "name": "ipython",
    "version": 3
   },
   "file_extension": ".py",
   "mimetype": "text/x-python",
   "name": "python",
   "nbconvert_exporter": "python",
   "pygments_lexer": "ipython3",
   "version": "3.7.1"
  }
 },
 "nbformat": 4,
 "nbformat_minor": 2
}
