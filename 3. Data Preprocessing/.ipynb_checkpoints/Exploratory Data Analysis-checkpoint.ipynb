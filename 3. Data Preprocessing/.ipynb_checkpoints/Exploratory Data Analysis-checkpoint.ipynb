{
 "cells": [
  {
   "cell_type": "markdown",
   "metadata": {},
   "source": [
    "# Exploratory Data Analysis\n",
    "### Studi Kasus: Analisis Data untuk Penilaian Bakat Olahraga"
   ]
  },
  {
   "cell_type": "code",
   "execution_count": 1,
   "metadata": {},
   "outputs": [],
   "source": [
    "# import library-library yang digunakan\n",
    "import pandas as pd\n",
    "import numpy as np\n",
    "import matplotlib.pyplot as plt\n",
    "import seaborn as sns"
   ]
  },
  {
   "cell_type": "code",
   "execution_count": 2,
   "metadata": {},
   "outputs": [],
   "source": [
    "# load dataset penilaian_bakat_olahraga.csv\n",
    "data = pd.read_csv('../datasets/penilaian_bakat_olahraga.csv')"
   ]
  },
  {
   "cell_type": "code",
   "execution_count": 3,
   "metadata": {},
   "outputs": [
    {
     "data": {
      "text/plain": [
       "(482, 9)"
      ]
     },
     "execution_count": 3,
     "metadata": {},
     "output_type": "execute_result"
    }
   ],
   "source": [
    "# lihat dimensi data\n",
    "data.shape"
   ]
  },
  {
   "cell_type": "code",
   "execution_count": 4,
   "metadata": {},
   "outputs": [
    {
     "data": {
      "text/plain": [
       "usia              float64\n",
       "kekuatan            int64\n",
       "kecepatan           int64\n",
       "cedera              int64\n",
       "penglihatan         int64\n",
       "daya_tahan          int64\n",
       "kelincahan          int64\n",
       "nilai_test          int64\n",
       "jenis_olahraga     object\n",
       "dtype: object"
      ]
     },
     "execution_count": 4,
     "metadata": {},
     "output_type": "execute_result"
    }
   ],
   "source": [
    "# melihat nama atribut dan tipe data\n",
    "data.dtypes"
   ]
  },
  {
   "cell_type": "code",
   "execution_count": 5,
   "metadata": {},
   "outputs": [
    {
     "data": {
      "text/plain": [
       "usia              0\n",
       "kekuatan          0\n",
       "kecepatan         0\n",
       "cedera            0\n",
       "penglihatan       0\n",
       "daya_tahan        0\n",
       "kelincahan        0\n",
       "nilai_test        0\n",
       "jenis_olahraga    0\n",
       "dtype: int64"
      ]
     },
     "execution_count": 5,
     "metadata": {},
     "output_type": "execute_result"
    }
   ],
   "source": [
    "# cek apakah terdapat missing value\n",
    "data.isnull().sum()"
   ]
  },
  {
   "cell_type": "code",
   "execution_count": 6,
   "metadata": {},
   "outputs": [
    {
     "data": {
      "text/html": [
       "<div>\n",
       "<style scoped>\n",
       "    .dataframe tbody tr th:only-of-type {\n",
       "        vertical-align: middle;\n",
       "    }\n",
       "\n",
       "    .dataframe tbody tr th {\n",
       "        vertical-align: top;\n",
       "    }\n",
       "\n",
       "    .dataframe thead th {\n",
       "        text-align: right;\n",
       "    }\n",
       "</style>\n",
       "<table border=\"1\" class=\"dataframe\">\n",
       "  <thead>\n",
       "    <tr style=\"text-align: right;\">\n",
       "      <th></th>\n",
       "      <th>usia</th>\n",
       "      <th>kekuatan</th>\n",
       "      <th>kecepatan</th>\n",
       "      <th>cedera</th>\n",
       "      <th>penglihatan</th>\n",
       "      <th>daya_tahan</th>\n",
       "      <th>kelincahan</th>\n",
       "      <th>nilai_test</th>\n",
       "    </tr>\n",
       "  </thead>\n",
       "  <tbody>\n",
       "    <tr>\n",
       "      <th>count</th>\n",
       "      <td>482.000000</td>\n",
       "      <td>482.000000</td>\n",
       "      <td>482.000000</td>\n",
       "      <td>482.000000</td>\n",
       "      <td>482.000000</td>\n",
       "      <td>482.000000</td>\n",
       "      <td>482.000000</td>\n",
       "      <td>482.000000</td>\n",
       "    </tr>\n",
       "    <tr>\n",
       "      <th>mean</th>\n",
       "      <td>15.954564</td>\n",
       "      <td>3.500000</td>\n",
       "      <td>1.983402</td>\n",
       "      <td>0.639004</td>\n",
       "      <td>1.692946</td>\n",
       "      <td>3.856846</td>\n",
       "      <td>33.680498</td>\n",
       "      <td>29.157676</td>\n",
       "    </tr>\n",
       "    <tr>\n",
       "      <th>std</th>\n",
       "      <td>1.817320</td>\n",
       "      <td>1.460854</td>\n",
       "      <td>1.505269</td>\n",
       "      <td>0.480788</td>\n",
       "      <td>1.134010</td>\n",
       "      <td>1.331782</td>\n",
       "      <td>12.523973</td>\n",
       "      <td>19.477265</td>\n",
       "    </tr>\n",
       "    <tr>\n",
       "      <th>min</th>\n",
       "      <td>13.000000</td>\n",
       "      <td>0.000000</td>\n",
       "      <td>0.000000</td>\n",
       "      <td>0.000000</td>\n",
       "      <td>0.000000</td>\n",
       "      <td>0.000000</td>\n",
       "      <td>13.000000</td>\n",
       "      <td>3.000000</td>\n",
       "    </tr>\n",
       "    <tr>\n",
       "      <th>25%</th>\n",
       "      <td>14.300000</td>\n",
       "      <td>3.000000</td>\n",
       "      <td>1.000000</td>\n",
       "      <td>0.000000</td>\n",
       "      <td>1.000000</td>\n",
       "      <td>3.000000</td>\n",
       "      <td>23.000000</td>\n",
       "      <td>11.000000</td>\n",
       "    </tr>\n",
       "    <tr>\n",
       "      <th>50%</th>\n",
       "      <td>15.900000</td>\n",
       "      <td>4.000000</td>\n",
       "      <td>1.000000</td>\n",
       "      <td>1.000000</td>\n",
       "      <td>2.000000</td>\n",
       "      <td>5.000000</td>\n",
       "      <td>31.500000</td>\n",
       "      <td>29.000000</td>\n",
       "    </tr>\n",
       "    <tr>\n",
       "      <th>75%</th>\n",
       "      <td>17.600000</td>\n",
       "      <td>4.000000</td>\n",
       "      <td>2.000000</td>\n",
       "      <td>1.000000</td>\n",
       "      <td>3.000000</td>\n",
       "      <td>5.000000</td>\n",
       "      <td>42.750000</td>\n",
       "      <td>40.000000</td>\n",
       "    </tr>\n",
       "    <tr>\n",
       "      <th>max</th>\n",
       "      <td>19.000000</td>\n",
       "      <td>7.000000</td>\n",
       "      <td>6.000000</td>\n",
       "      <td>1.000000</td>\n",
       "      <td>3.000000</td>\n",
       "      <td>6.000000</td>\n",
       "      <td>80.000000</td>\n",
       "      <td>100.000000</td>\n",
       "    </tr>\n",
       "  </tbody>\n",
       "</table>\n",
       "</div>"
      ],
      "text/plain": [
       "             usia    kekuatan   kecepatan      cedera  penglihatan  \\\n",
       "count  482.000000  482.000000  482.000000  482.000000   482.000000   \n",
       "mean    15.954564    3.500000    1.983402    0.639004     1.692946   \n",
       "std      1.817320    1.460854    1.505269    0.480788     1.134010   \n",
       "min     13.000000    0.000000    0.000000    0.000000     0.000000   \n",
       "25%     14.300000    3.000000    1.000000    0.000000     1.000000   \n",
       "50%     15.900000    4.000000    1.000000    1.000000     2.000000   \n",
       "75%     17.600000    4.000000    2.000000    1.000000     3.000000   \n",
       "max     19.000000    7.000000    6.000000    1.000000     3.000000   \n",
       "\n",
       "       daya_tahan  kelincahan  nilai_test  \n",
       "count  482.000000  482.000000  482.000000  \n",
       "mean     3.856846   33.680498   29.157676  \n",
       "std      1.331782   12.523973   19.477265  \n",
       "min      0.000000   13.000000    3.000000  \n",
       "25%      3.000000   23.000000   11.000000  \n",
       "50%      5.000000   31.500000   29.000000  \n",
       "75%      5.000000   42.750000   40.000000  \n",
       "max      6.000000   80.000000  100.000000  "
      ]
     },
     "execution_count": 6,
     "metadata": {},
     "output_type": "execute_result"
    }
   ],
   "source": [
    "# melihat deskripsi data (count, mean, standard deviasi, nilai minimal, Q1, Q2, Q3, dan nilai maksimal)\n",
    "data.describe()"
   ]
  },
  {
   "cell_type": "markdown",
   "metadata": {},
   "source": [
    "## Bar Plot"
   ]
  },
  {
   "cell_type": "code",
   "execution_count": 7,
   "metadata": {},
   "outputs": [
    {
     "data": {
      "image/png": "[encoded data removed]",
      "text/plain": [
       "<Figure size 432x288 with 1 Axes>"
      ]
     },
     "metadata": {
      "needs_background": "light"
     },
     "output_type": "display_data"
    }
   ],
   "source": [
    "# Membuat bar plot dari atribut jenis_olahraga\n",
    "plt.title('Jenis Olahraga')\n",
    "sns.countplot(data['jenis_olahraga'])\n",
    "plt.xlabel('Jenis')\n",
    "plt.ylabel('Jumlah')\n",
    "plt.show()"
   ]
  },
  {
   "cell_type": "markdown",
   "metadata": {},
   "source": [
    "## Pie Chart"
   ]
  },
  {
   "cell_type": "code",
   "execution_count": 8,
   "metadata": {},
   "outputs": [
    {
     "data": {
      "image/png": "[encoded data removed]",
      "text/plain": [
       "<Figure size 432x288 with 1 Axes>"
      ]
     },
     "metadata": {},
     "output_type": "display_data"
    }
   ],
   "source": [
    "# Membuat pie chart dari atribut cedera\n",
    "data['cedera'].value_counts().plot.pie(autopct='%1.1f%%', labels=None, legend=True)\n",
    "plt.tight_layout()"
   ]
  },
  {
   "cell_type": "markdown",
   "metadata": {},
   "source": [
    "## Box Plot"
   ]
  },
  {
   "cell_type": "code",
   "execution_count": 9,
   "metadata": {},
   "outputs": [
    {
     "data": {
      "text/plain": [
       "<matplotlib.axes._subplots.AxesSubplot at 0x1fb1712f828>"
      ]
     },
     "execution_count": 9,
     "metadata": {},
     "output_type": "execute_result"
    },
    {
     "data": {
      "image/png": "[encoded data removed]",
      "text/plain": [
       "<Figure size 576x288 with 1 Axes>"
      ]
     },
     "metadata": {
      "needs_background": "light"
     },
     "output_type": "display_data"
    }
   ],
   "source": [
    "# Membuat box plot dari atribut nilai_test\n",
    "plt.figure(figsize=(8,4))\n",
    "sns.boxplot(data['nilai_test'])"
   ]
  },
  {
   "cell_type": "markdown",
   "metadata": {},
   "source": [
    "## Histogram dan Distribution Plot"
   ]
  },
  {
   "cell_type": "code",
   "execution_count": 10,
   "metadata": {},
   "outputs": [
    {
     "data": {
      "text/plain": [
       "<matplotlib.axes._subplots.AxesSubplot at 0x1fb172785c0>"
      ]
     },
     "execution_count": 10,
     "metadata": {},
     "output_type": "execute_result"
    },
    {
     "data": {
      "image/png": "[encoded data removed]",
      "text/plain": [
       "<Figure size 576x288 with 1 Axes>"
      ]
     },
     "metadata": {
      "needs_background": "light"
     },
     "output_type": "display_data"
    }
   ],
   "source": [
    "# Membuat histogram dan distribution plot dari atribut kelincahan\n",
    "plt.figure(figsize=(8,4))\n",
    "sns.distplot(data['kelincahan'])"
   ]
  },
  {
   "cell_type": "markdown",
   "metadata": {},
   "source": [
    "## Scatter Plot"
   ]
  },
  {
   "cell_type": "code",
   "execution_count": 11,
   "metadata": {},
   "outputs": [
    {
     "data": {
      "image/png": "[encoded data removed]",
      "text/plain": [
       "<Figure size 432x288 with 1 Axes>"
      ]
     },
     "metadata": {
      "needs_background": "light"
     },
     "output_type": "display_data"
    }
   ],
   "source": [
    "# Membuat scatter plot atribut usia dan nilai_test\n",
    "plt.scatter(data['usia'], data['nilai_test'])\n",
    "plt.xlabel('Usia')\n",
    "plt.ylabel('Nilai Test')\n",
    "plt.title('Scatter Plot Usia Vs. Nilai Test')\n",
    "plt.show()"
   ]
  },
  {
   "cell_type": "markdown",
   "metadata": {},
   "source": [
    "## Korelasi Antar Atribut"
   ]
  },
  {
   "cell_type": "code",
   "execution_count": 12,
   "metadata": {},
   "outputs": [
    {
     "data": {
      "text/html": [
       "<div>\n",
       "<style scoped>\n",
       "    .dataframe tbody tr th:only-of-type {\n",
       "        vertical-align: middle;\n",
       "    }\n",
       "\n",
       "    .dataframe tbody tr th {\n",
       "        vertical-align: top;\n",
       "    }\n",
       "\n",
       "    .dataframe thead th {\n",
       "        text-align: right;\n",
       "    }\n",
       "</style>\n",
       "<table border=\"1\" class=\"dataframe\">\n",
       "  <thead>\n",
       "    <tr style=\"text-align: right;\">\n",
       "      <th></th>\n",
       "      <th>usia</th>\n",
       "      <th>kekuatan</th>\n",
       "      <th>kecepatan</th>\n",
       "      <th>cedera</th>\n",
       "      <th>penglihatan</th>\n",
       "      <th>daya_tahan</th>\n",
       "      <th>kelincahan</th>\n",
       "      <th>nilai_test</th>\n",
       "    </tr>\n",
       "  </thead>\n",
       "  <tbody>\n",
       "    <tr>\n",
       "      <th>usia</th>\n",
       "      <td>1.000000</td>\n",
       "      <td>0.039977</td>\n",
       "      <td>-0.039492</td>\n",
       "      <td>0.096114</td>\n",
       "      <td>-0.051675</td>\n",
       "      <td>0.042404</td>\n",
       "      <td>-0.018780</td>\n",
       "      <td>-0.000825</td>\n",
       "    </tr>\n",
       "    <tr>\n",
       "      <th>kekuatan</th>\n",
       "      <td>0.039977</td>\n",
       "      <td>1.000000</td>\n",
       "      <td>-0.094544</td>\n",
       "      <td>-0.017760</td>\n",
       "      <td>-0.239698</td>\n",
       "      <td>-0.208911</td>\n",
       "      <td>0.315560</td>\n",
       "      <td>-0.041721</td>\n",
       "    </tr>\n",
       "    <tr>\n",
       "      <th>kecepatan</th>\n",
       "      <td>-0.039492</td>\n",
       "      <td>-0.094544</td>\n",
       "      <td>1.000000</td>\n",
       "      <td>0.000322</td>\n",
       "      <td>-0.028568</td>\n",
       "      <td>0.069333</td>\n",
       "      <td>-0.112217</td>\n",
       "      <td>0.042352</td>\n",
       "    </tr>\n",
       "    <tr>\n",
       "      <th>cedera</th>\n",
       "      <td>0.096114</td>\n",
       "      <td>-0.017760</td>\n",
       "      <td>0.000322</td>\n",
       "      <td>1.000000</td>\n",
       "      <td>-0.096958</td>\n",
       "      <td>0.052247</td>\n",
       "      <td>0.053657</td>\n",
       "      <td>0.089123</td>\n",
       "    </tr>\n",
       "    <tr>\n",
       "      <th>penglihatan</th>\n",
       "      <td>-0.051675</td>\n",
       "      <td>-0.239698</td>\n",
       "      <td>-0.028568</td>\n",
       "      <td>-0.096958</td>\n",
       "      <td>1.000000</td>\n",
       "      <td>0.235140</td>\n",
       "      <td>-0.240845</td>\n",
       "      <td>0.007279</td>\n",
       "    </tr>\n",
       "    <tr>\n",
       "      <th>daya_tahan</th>\n",
       "      <td>0.042404</td>\n",
       "      <td>-0.208911</td>\n",
       "      <td>0.069333</td>\n",
       "      <td>0.052247</td>\n",
       "      <td>0.235140</td>\n",
       "      <td>1.000000</td>\n",
       "      <td>-0.547827</td>\n",
       "      <td>0.118369</td>\n",
       "    </tr>\n",
       "    <tr>\n",
       "      <th>kelincahan</th>\n",
       "      <td>-0.018780</td>\n",
       "      <td>0.315560</td>\n",
       "      <td>-0.112217</td>\n",
       "      <td>0.053657</td>\n",
       "      <td>-0.240845</td>\n",
       "      <td>-0.547827</td>\n",
       "      <td>1.000000</td>\n",
       "      <td>-0.108579</td>\n",
       "    </tr>\n",
       "    <tr>\n",
       "      <th>nilai_test</th>\n",
       "      <td>-0.000825</td>\n",
       "      <td>-0.041721</td>\n",
       "      <td>0.042352</td>\n",
       "      <td>0.089123</td>\n",
       "      <td>0.007279</td>\n",
       "      <td>0.118369</td>\n",
       "      <td>-0.108579</td>\n",
       "      <td>1.000000</td>\n",
       "    </tr>\n",
       "  </tbody>\n",
       "</table>\n",
       "</div>"
      ],
      "text/plain": [
       "                 usia  kekuatan  kecepatan    cedera  penglihatan  daya_tahan  \\\n",
       "usia         1.000000  0.039977  -0.039492  0.096114    -0.051675    0.042404   \n",
       "kekuatan     0.039977  1.000000  -0.094544 -0.017760    -0.239698   -0.208911   \n",
       "kecepatan   -0.039492 -0.094544   1.000000  0.000322    -0.028568    0.069333   \n",
       "cedera       0.096114 -0.017760   0.000322  1.000000    -0.096958    0.052247   \n",
       "penglihatan -0.051675 -0.239698  -0.028568 -0.096958     1.000000    0.235140   \n",
       "daya_tahan   0.042404 -0.208911   0.069333  0.052247     0.235140    1.000000   \n",
       "kelincahan  -0.018780  0.315560  -0.112217  0.053657    -0.240845   -0.547827   \n",
       "nilai_test  -0.000825 -0.041721   0.042352  0.089123     0.007279    0.118369   \n",
       "\n",
       "             kelincahan  nilai_test  \n",
       "usia          -0.018780   -0.000825  \n",
       "kekuatan       0.315560   -0.041721  \n",
       "kecepatan     -0.112217    0.042352  \n",
       "cedera         0.053657    0.089123  \n",
       "penglihatan   -0.240845    0.007279  \n",
       "daya_tahan    -0.547827    0.118369  \n",
       "kelincahan     1.000000   -0.108579  \n",
       "nilai_test    -0.108579    1.000000  "
      ]
     },
     "execution_count": 12,
     "metadata": {},
     "output_type": "execute_result"
    }
   ],
   "source": [
    "# Melihat korelasi antar atribut\n",
    "korelasi = data.corr()\n",
    "korelasi"
   ]
  },
  {
   "cell_type": "code",
   "execution_count": 13,
   "metadata": {},
   "outputs": [
    {
     "data": {
      "image/png": "[encoded data removed]",
      "text/plain": [
       "<Figure size 504x504 with 2 Axes>"
      ]
     },
     "metadata": {
      "needs_background": "light"
     },
     "output_type": "display_data"
    }
   ],
   "source": [
    "# Visualisasi korelasi antar atribut dengan heatmap\n",
    "plt.figure(figsize=(7,7))\n",
    "sns.heatmap(korelasi, cbar=True, square=True, fmt='.2f', annot=True, annot_kws={'size':10}, cmap='YlGnBu')\n",
    "plt.show()"
   ]
  }
 ],
 "metadata": {
  "kernelspec": {
   "display_name": "Python 3",
   "language": "python",
   "name": "python3"
  },
  "language_info": {
   "codemirror_mode": {
    "name": "ipython",
    "version": 3
   },
   "file_extension": ".py",
   "mimetype": "text/x-python",
   "name": "python",
   "nbconvert_exporter": "python",
   "pygments_lexer": "ipython3",
   "version": "3.7.1"
  }
 },
 "nbformat": 4,
 "nbformat_minor": 2
}
