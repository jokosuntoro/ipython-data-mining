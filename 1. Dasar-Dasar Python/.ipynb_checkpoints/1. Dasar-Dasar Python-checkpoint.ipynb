{
 "cells": [
  {
   "cell_type": "markdown",
   "metadata": {},
   "source": [
    "## Hello World\n",
    "\n",
    "Cara menuliskan hello world di python adalah dengan menambahkan syntax print"
   ]
  },
  {
   "cell_type": "code",
   "execution_count": 2,
   "metadata": {},
   "outputs": [
    {
     "name": "stdout",
     "output_type": "stream",
     "text": [
      "Hello world\n"
     ]
    }
   ],
   "source": [
    "print(\"Hello world\")"
   ]
  },
  {
   "cell_type": "markdown",
   "metadata": {},
   "source": [
    "## Membuat Variabel\n",
    "Variabel digunakan untuk menyimpan suatu data. <br>\n",
    "Python adalah bahasa pemrograman yang bersifat <B>case sensitif</B> <br>\n",
    "    Contoh:nama variabel <b>data</b> dan <b>Data</b> adalah dua variabel yang berbeda\n",
    "    "
   ]
  },
  {
   "cell_type": "code",
   "execution_count": 3,
   "metadata": {},
   "outputs": [
    {
     "name": "stdout",
     "output_type": "stream",
     "text": [
      "Ini adalah variabel a\n"
     ]
    }
   ],
   "source": [
    "a = \"Ini adalah variabel a\"\n",
    "print(a)"
   ]
  },
  {
   "cell_type": "code",
   "execution_count": 9,
   "metadata": {},
   "outputs": [
    {
     "name": "stdout",
     "output_type": "stream",
     "text": [
      "ini adalah variabel data pertama\n",
      "ini adalah variabel DATA kedua\n"
     ]
    }
   ],
   "source": [
    "# variabel bersifat case-sensitif\n",
    "data = \"ini adalah variabel data pertama\"\n",
    "Data = \"ini adalah variabel DATA kedua\"\n",
    "\n",
    "print(data)\n",
    "print(Data)"
   ]
  },
  {
   "cell_type": "markdown",
   "metadata": {},
   "source": [
    "## Operator"
   ]
  },
  {
   "cell_type": "markdown",
   "metadata": {},
   "source": [
    "### 1. Operator Aritmatika\n",
    "merupakan operator-operator yang digunakan untuk operasi matematika dasar<br>\n",
    "![Operator Aritmatika](../img/operator_aritmatika.PNG)<br>\n",
    "\n"
   ]
  },
  {
   "cell_type": "code",
   "execution_count": 11,
   "metadata": {},
   "outputs": [
    {
     "data": {
      "text/plain": [
       "9"
      ]
     },
     "execution_count": 11,
     "metadata": {},
     "output_type": "execute_result"
    }
   ],
   "source": [
    "# operasi aritmatika tanpa variabel\n",
    "5+4"
   ]
  },
  {
   "cell_type": "code",
   "execution_count": 12,
   "metadata": {},
   "outputs": [
    {
     "data": {
      "text/plain": [
       "2.0"
      ]
     },
     "execution_count": 12,
     "metadata": {},
     "output_type": "execute_result"
    }
   ],
   "source": [
    "14/7"
   ]
  },
  {
   "cell_type": "code",
   "execution_count": 20,
   "metadata": {},
   "outputs": [
    {
     "name": "stdout",
     "output_type": "stream",
     "text": [
      "nilai a adalah 10\n",
      "nilai b adalah 5\n",
      "----------------------------------------\n",
      "Hasil penjumlahan a dan b adalah 15\n",
      "Hasil pengurangan a dan b adalah 5\n",
      "Hasil perkalian a dan b adalah 50\n",
      "Hasil pembagian a dan b adalah 2.0\n",
      "Sisa hasil bagi a dan b adalah 0\n",
      "Hasil a pangkat b adalah 100000\n"
     ]
    }
   ],
   "source": [
    "# operasi aritmatika dengan variabel\n",
    "a = 10\n",
    "b = 5\n",
    "\n",
    "jumlah = a+b\n",
    "kurang = a-b\n",
    "kali = a*b\n",
    "bagi = a/b\n",
    "sisa_bagi = a%b\n",
    "pangkat = a**b\n",
    "\n",
    "print(\"nilai a adalah\", a)\n",
    "print(\"nilai b adalah\", b)\n",
    "print(\"----------------------------------------\")\n",
    "print(\"Hasil penjumlahan a dan b adalah\", jumlah)\n",
    "print(\"Hasil pengurangan a dan b adalah\", kurang)\n",
    "print(\"Hasil perkalian a dan b adalah\", kali)\n",
    "print(\"Hasil pembagian a dan b adalah\", bagi)\n",
    "print(\"Sisa hasil bagi a dan b adalah\", sisa_bagi)\n",
    "print(\"Hasil a pangkat b adalah\", pangkat)"
   ]
  },
  {
   "cell_type": "markdown",
   "metadata": {},
   "source": [
    "### 2. Operator Perbandingan <br>\n",
    "Digunakan untuk membandingkan dua buah operand atau lebih <br>\n",
    "![Operator Perbandingan](../img/operator_perbandingan.PNG)<br>"
   ]
  },
  {
   "cell_type": "code",
   "execution_count": 21,
   "metadata": {},
   "outputs": [
    {
     "data": {
      "text/plain": [
       "True"
      ]
     },
     "execution_count": 21,
     "metadata": {},
     "output_type": "execute_result"
    }
   ],
   "source": [
    "10 > 9"
   ]
  },
  {
   "cell_type": "code",
   "execution_count": 22,
   "metadata": {},
   "outputs": [
    {
     "data": {
      "text/plain": [
       "False"
      ]
     },
     "execution_count": 22,
     "metadata": {},
     "output_type": "execute_result"
    }
   ],
   "source": [
    "10 < 9"
   ]
  },
  {
   "cell_type": "code",
   "execution_count": 23,
   "metadata": {},
   "outputs": [
    {
     "data": {
      "text/plain": [
       "True"
      ]
     },
     "execution_count": 23,
     "metadata": {},
     "output_type": "execute_result"
    }
   ],
   "source": [
    "10 == 10"
   ]
  },
  {
   "cell_type": "code",
   "execution_count": 24,
   "metadata": {},
   "outputs": [
    {
     "data": {
      "text/plain": [
       "True"
      ]
     },
     "execution_count": 24,
     "metadata": {},
     "output_type": "execute_result"
    }
   ],
   "source": [
    "10 != 9"
   ]
  },
  {
   "cell_type": "code",
   "execution_count": null,
   "metadata": {},
   "outputs": [],
   "source": []
  }
 ],
 "metadata": {
  "kernelspec": {
   "display_name": "Python 3",
   "language": "python",
   "name": "python3"
  },
  "language_info": {
   "codemirror_mode": {
    "name": "ipython",
    "version": 3
   },
   "file_extension": ".py",
   "mimetype": "text/x-python",
   "name": "python",
   "nbconvert_exporter": "python",
   "pygments_lexer": "ipython3",
   "version": "3.7.1"
  }
 },
 "nbformat": 4,
 "nbformat_minor": 2
}
